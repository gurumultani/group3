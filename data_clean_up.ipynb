{
 "cells": [
  {
   "cell_type": "code",
   "execution_count": 1,
   "metadata": {},
   "outputs": [
    {
     "name": "stdout",
     "output_type": "stream",
     "text": [
      "Index([',topic,country,index_trends,year,country_code', 'Unnamed: 1', 'topic',\n",
      "       'country', 'index_trends', 'year', 'country_code'],\n",
      "      dtype='object')\n"
     ]
    }
   ],
   "source": [
    "import pandas as pd\n",
    "\n",
    "# Read the CSV file into a DataFrame\n",
    "df = pd.read_csv('data_download.csv', encoding='latin-1')\n",
    "\n",
    "# Check the column names in the DataFrame\n",
    "print(df.columns)\n",
    "\n",
    "# Filter the DataFrame to include only rows with dates between 2020 and 2022\n",
    "start_year = 2020\n",
    "end_year = 2022\n",
    "filtered_df = df[(df['year'] >= start_year) & (df['year'] <= end_year)]\n",
    "\n",
    "# Filter the DataFrame further to include only rows where 'index_trends' >= 70\n",
    "filtered_df = filtered_df[filtered_df['index_trends'] >= 70]\n",
    "\n",
    "# Save the filtered data to a new CSV file\n",
    "filtered_df.to_csv('data_cleaned_up.csv', index=False)\n"
   ]
  }
 ],
 "metadata": {
  "kernelspec": {
   "display_name": "env",
   "language": "python",
   "name": "python3"
  },
  "language_info": {
   "codemirror_mode": {
    "name": "ipython",
    "version": 3
   },
   "file_extension": ".py",
   "mimetype": "text/x-python",
   "name": "python",
   "nbconvert_exporter": "python",
   "pygments_lexer": "ipython3",
   "version": "3.11.4"
  },
  "orig_nbformat": 4
 },
 "nbformat": 4,
 "nbformat_minor": 2
}
